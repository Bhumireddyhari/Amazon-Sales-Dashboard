{
  "nbformat": 4,
  "nbformat_minor": 0,
  "metadata": {
    "colab": {
      "provenance": [],
      "collapsed_sections": [
        "yxyjxnhvxu6T",
        "81yF31X3mNY9",
        "I_BSEGVjUFNt",
        "2uNMRTEV59Ty",
        "XwxXs4uZ4uFb"
      ],
      "toc_visible": true,
      "include_colab_link": true
    },
    "kernelspec": {
      "name": "python3",
      "display_name": "Python 3"
    }
  },
  "cells": [
    {
      "cell_type": "markdown",
      "metadata": {
        "id": "view-in-github",
        "colab_type": "text"
      },
      "source": [
        "<a href=\"https://colab.research.google.com/github/Bhumireddyhari/Amazon-Sales-Dashboard/blob/main/Copy_of_Pandas_Coding_Assignment_2.ipynb\" target=\"_parent\"><img src=\"https://colab.research.google.com/assets/colab-badge.svg\" alt=\"Open In Colab\"/></a>"
      ]
    },
    {
      "cell_type": "code",
      "metadata": {
        "id": "HULmAWvWL_w-"
      },
      "source": [
        "import pandas as pd\n",
        "import numpy as np\n",
        "import matplotlib.pyplot as plt"
      ],
      "execution_count": null,
      "outputs": []
    },
    {
      "cell_type": "markdown",
      "metadata": {
        "id": "yxyjxnhvxu6T"
      },
      "source": [
        "# Data Analysis Process\n",
        "\n",
        "Broadly, data analysis involves the following phases:\n",
        "1. Question Phase - Asking questions\n",
        "2. Wrangling Phase\n",
        "  - Data Acquisition - Acquiring the data required to answer the question by various means\n",
        "  - Data Cleaning - Cleaning the data so it can be used for further analysis\n",
        "3. Data Exploration Phase - Getting familiar with the data, building intuition and finding patterns.\n",
        "4. Drawing Conclusions Phase  - Arriving at conclusions based on the data or making some predictions. This phase usually involves statisitics or Machine Learning.\n",
        "5. Communication Phase - Communicating your findings with the help of PPTs, blog posts etc. Data visualization can be very useful here.\n",
        "\n",
        "\n",
        "**This process is not always done in this order.**\n",
        "\n",
        "There can be a lot of going back and forth between the different phases. Especially the Wrangling Phase and Data Exploration Phase.\n",
        "  - To clean problems in the data, you first need to explore the data to see what problems are there.\n",
        "  - When you think you are done cleaning the data and you start exploring, you are likely to find more problems in the data, and you'll have to go back and clean the data.\n",
        "\n",
        "Also, throughout the process, as you become more familiar with the dataset, you may need to go back and refine the question you're asking."
      ]
    },
    {
      "cell_type": "markdown",
      "metadata": {
        "id": "E-jBt7D1nngK"
      },
      "source": [
        "# Analysis On the Shopping Dataset"
      ]
    },
    {
      "cell_type": "markdown",
      "metadata": {
        "id": "HVrVdUXn5QCt"
      },
      "source": [
        "\n",
        "Sometimes data acquistion may come before you pose a question. If a new dataset is released, you may acquire the data first and then think of some questions that can be answered with the data.\n",
        "\n",
        "In this assignment, you'll be answering some interesting questions on the shopping dataset."
      ]
    },
    {
      "cell_type": "code",
      "metadata": {
        "id": "RNXEhKt3tkiV",
        "colab": {
          "base_uri": "https://localhost:8080/"
        },
        "outputId": "3d338386-a0af-427a-d97c-373e7f1005c2"
      },
      "source": [
        "!wget https://nkb-backend-otg-media-static.s3.ap-south-1.amazonaws.com/otg_prod/media/Tech_4.0/AI_ML/Datasets/sales_data.csv"
      ],
      "execution_count": null,
      "outputs": [
        {
          "output_type": "stream",
          "name": "stdout",
          "text": [
            "--2023-10-03 03:26:44--  https://nkb-backend-otg-media-static.s3.ap-south-1.amazonaws.com/otg_prod/media/Tech_4.0/AI_ML/Datasets/sales_data.csv\n",
            "Resolving nkb-backend-otg-media-static.s3.ap-south-1.amazonaws.com (nkb-backend-otg-media-static.s3.ap-south-1.amazonaws.com)... 3.5.211.111, 52.219.160.94, 52.219.158.38, ...\n",
            "Connecting to nkb-backend-otg-media-static.s3.ap-south-1.amazonaws.com (nkb-backend-otg-media-static.s3.ap-south-1.amazonaws.com)|3.5.211.111|:443... connected.\n",
            "HTTP request sent, awaiting response... 200 OK\n",
            "Length: 32406147 (31M) [text/csv]\n",
            "Saving to: ‘sales_data.csv.1’\n",
            "\n",
            "sales_data.csv.1    100%[===================>]  30.90M  8.35MB/s    in 3.7s    \n",
            "\n",
            "2023-10-03 03:26:49 (8.35 MB/s) - ‘sales_data.csv.1’ saved [32406147/32406147]\n",
            "\n"
          ]
        }
      ]
    },
    {
      "cell_type": "code",
      "metadata": {
        "id": "MS6bNNRXnngK",
        "colab": {
          "base_uri": "https://localhost:8080/",
          "height": 614
        },
        "outputId": "cf72d14d-76bf-4a51-d8d8-f015a357068a"
      },
      "source": [
        "shopping_df = pd.read_csv(\"sales_data.csv\")\n",
        "shopping_df"
      ],
      "execution_count": null,
      "outputs": [
        {
          "output_type": "execute_result",
          "data": {
            "text/plain": [
              "        Order ID                   Product  Quantity Ordered  Price Each  \\\n",
              "0       150502.0                    iPhone               1.0      700.00   \n",
              "1       150503.0     AA Batteries (4-pack)               1.0        3.84   \n",
              "2       150504.0    27in 4K Gaming Monitor               1.0      389.99   \n",
              "3       150505.0  Lightning Charging Cable               1.0       14.95   \n",
              "4       150506.0     AA Batteries (4-pack)               2.0        3.84   \n",
              "...          ...                       ...               ...         ...   \n",
              "372985  295660.0    AAA Batteries (4-pack)               2.0        2.99   \n",
              "372986  295661.0      USB-C Charging Cable               1.0       11.95   \n",
              "372987  295662.0  Lightning Charging Cable               1.0       14.95   \n",
              "372988  295663.0    AAA Batteries (4-pack)               1.0        2.99   \n",
              "372989  295664.0              Google Phone               1.0      600.00   \n",
              "\n",
              "            Order Date                     Purchase Address  \n",
              "0       02/18/19 01:35    866 Spruce St, Portland, ME 04101  \n",
              "1       02/13/19 07:24  18 13th St, San Francisco, CA 94016  \n",
              "2       02/18/19 09:46   52 6th St, New York City, NY 10001  \n",
              "3       02/02/19 16:47     129 Cherry St, Atlanta, GA 30301  \n",
              "4       02/28/19 20:32    548 Lincoln St, Seattle, WA 98101  \n",
              "...                ...                                  ...  \n",
              "372985  11/04/19 14:17    574 4th St, Los Angeles, CA 90001  \n",
              "372986  11/23/19 07:22         359 1st St, Austin, TX 73301  \n",
              "372987  11/13/19 16:12        900 10th St, Boston, MA 02215  \n",
              "372988  11/17/19 17:08      592 Sunset St, Boston, MA 02215  \n",
              "372989  11/17/19 16:13     428 Jackson St, Boston, MA 02215  \n",
              "\n",
              "[372990 rows x 6 columns]"
            ],
            "text/html": [
              "\n",
              "  <div id=\"df-d80bc10a-94a0-40ce-8771-a8e80bd35066\" class=\"colab-df-container\">\n",
              "    <div>\n",
              "<style scoped>\n",
              "    .dataframe tbody tr th:only-of-type {\n",
              "        vertical-align: middle;\n",
              "    }\n",
              "\n",
              "    .dataframe tbody tr th {\n",
              "        vertical-align: top;\n",
              "    }\n",
              "\n",
              "    .dataframe thead th {\n",
              "        text-align: right;\n",
              "    }\n",
              "</style>\n",
              "<table border=\"1\" class=\"dataframe\">\n",
              "  <thead>\n",
              "    <tr style=\"text-align: right;\">\n",
              "      <th></th>\n",
              "      <th>Order ID</th>\n",
              "      <th>Product</th>\n",
              "      <th>Quantity Ordered</th>\n",
              "      <th>Price Each</th>\n",
              "      <th>Order Date</th>\n",
              "      <th>Purchase Address</th>\n",
              "    </tr>\n",
              "  </thead>\n",
              "  <tbody>\n",
              "    <tr>\n",
              "      <th>0</th>\n",
              "      <td>150502.0</td>\n",
              "      <td>iPhone</td>\n",
              "      <td>1.0</td>\n",
              "      <td>700.00</td>\n",
              "      <td>02/18/19 01:35</td>\n",
              "      <td>866 Spruce St, Portland, ME 04101</td>\n",
              "    </tr>\n",
              "    <tr>\n",
              "      <th>1</th>\n",
              "      <td>150503.0</td>\n",
              "      <td>AA Batteries (4-pack)</td>\n",
              "      <td>1.0</td>\n",
              "      <td>3.84</td>\n",
              "      <td>02/13/19 07:24</td>\n",
              "      <td>18 13th St, San Francisco, CA 94016</td>\n",
              "    </tr>\n",
              "    <tr>\n",
              "      <th>2</th>\n",
              "      <td>150504.0</td>\n",
              "      <td>27in 4K Gaming Monitor</td>\n",
              "      <td>1.0</td>\n",
              "      <td>389.99</td>\n",
              "      <td>02/18/19 09:46</td>\n",
              "      <td>52 6th St, New York City, NY 10001</td>\n",
              "    </tr>\n",
              "    <tr>\n",
              "      <th>3</th>\n",
              "      <td>150505.0</td>\n",
              "      <td>Lightning Charging Cable</td>\n",
              "      <td>1.0</td>\n",
              "      <td>14.95</td>\n",
              "      <td>02/02/19 16:47</td>\n",
              "      <td>129 Cherry St, Atlanta, GA 30301</td>\n",
              "    </tr>\n",
              "    <tr>\n",
              "      <th>4</th>\n",
              "      <td>150506.0</td>\n",
              "      <td>AA Batteries (4-pack)</td>\n",
              "      <td>2.0</td>\n",
              "      <td>3.84</td>\n",
              "      <td>02/28/19 20:32</td>\n",
              "      <td>548 Lincoln St, Seattle, WA 98101</td>\n",
              "    </tr>\n",
              "    <tr>\n",
              "      <th>...</th>\n",
              "      <td>...</td>\n",
              "      <td>...</td>\n",
              "      <td>...</td>\n",
              "      <td>...</td>\n",
              "      <td>...</td>\n",
              "      <td>...</td>\n",
              "    </tr>\n",
              "    <tr>\n",
              "      <th>372985</th>\n",
              "      <td>295660.0</td>\n",
              "      <td>AAA Batteries (4-pack)</td>\n",
              "      <td>2.0</td>\n",
              "      <td>2.99</td>\n",
              "      <td>11/04/19 14:17</td>\n",
              "      <td>574 4th St, Los Angeles, CA 90001</td>\n",
              "    </tr>\n",
              "    <tr>\n",
              "      <th>372986</th>\n",
              "      <td>295661.0</td>\n",
              "      <td>USB-C Charging Cable</td>\n",
              "      <td>1.0</td>\n",
              "      <td>11.95</td>\n",
              "      <td>11/23/19 07:22</td>\n",
              "      <td>359 1st St, Austin, TX 73301</td>\n",
              "    </tr>\n",
              "    <tr>\n",
              "      <th>372987</th>\n",
              "      <td>295662.0</td>\n",
              "      <td>Lightning Charging Cable</td>\n",
              "      <td>1.0</td>\n",
              "      <td>14.95</td>\n",
              "      <td>11/13/19 16:12</td>\n",
              "      <td>900 10th St, Boston, MA 02215</td>\n",
              "    </tr>\n",
              "    <tr>\n",
              "      <th>372988</th>\n",
              "      <td>295663.0</td>\n",
              "      <td>AAA Batteries (4-pack)</td>\n",
              "      <td>1.0</td>\n",
              "      <td>2.99</td>\n",
              "      <td>11/17/19 17:08</td>\n",
              "      <td>592 Sunset St, Boston, MA 02215</td>\n",
              "    </tr>\n",
              "    <tr>\n",
              "      <th>372989</th>\n",
              "      <td>295664.0</td>\n",
              "      <td>Google Phone</td>\n",
              "      <td>1.0</td>\n",
              "      <td>600.00</td>\n",
              "      <td>11/17/19 16:13</td>\n",
              "      <td>428 Jackson St, Boston, MA 02215</td>\n",
              "    </tr>\n",
              "  </tbody>\n",
              "</table>\n",
              "<p>372990 rows × 6 columns</p>\n",
              "</div>\n",
              "    <div class=\"colab-df-buttons\">\n",
              "\n",
              "  <div class=\"colab-df-container\">\n",
              "    <button class=\"colab-df-convert\" onclick=\"convertToInteractive('df-d80bc10a-94a0-40ce-8771-a8e80bd35066')\"\n",
              "            title=\"Convert this dataframe to an interactive table.\"\n",
              "            style=\"display:none;\">\n",
              "\n",
              "  <svg xmlns=\"http://www.w3.org/2000/svg\" height=\"24px\" viewBox=\"0 -960 960 960\">\n",
              "    <path d=\"M120-120v-720h720v720H120Zm60-500h600v-160H180v160Zm220 220h160v-160H400v160Zm0 220h160v-160H400v160ZM180-400h160v-160H180v160Zm440 0h160v-160H620v160ZM180-180h160v-160H180v160Zm440 0h160v-160H620v160Z\"/>\n",
              "  </svg>\n",
              "    </button>\n",
              "\n",
              "  <style>\n",
              "    .colab-df-container {\n",
              "      display:flex;\n",
              "      gap: 12px;\n",
              "    }\n",
              "\n",
              "    .colab-df-convert {\n",
              "      background-color: #E8F0FE;\n",
              "      border: none;\n",
              "      border-radius: 50%;\n",
              "      cursor: pointer;\n",
              "      display: none;\n",
              "      fill: #1967D2;\n",
              "      height: 32px;\n",
              "      padding: 0 0 0 0;\n",
              "      width: 32px;\n",
              "    }\n",
              "\n",
              "    .colab-df-convert:hover {\n",
              "      background-color: #E2EBFA;\n",
              "      box-shadow: 0px 1px 2px rgba(60, 64, 67, 0.3), 0px 1px 3px 1px rgba(60, 64, 67, 0.15);\n",
              "      fill: #174EA6;\n",
              "    }\n",
              "\n",
              "    .colab-df-buttons div {\n",
              "      margin-bottom: 4px;\n",
              "    }\n",
              "\n",
              "    [theme=dark] .colab-df-convert {\n",
              "      background-color: #3B4455;\n",
              "      fill: #D2E3FC;\n",
              "    }\n",
              "\n",
              "    [theme=dark] .colab-df-convert:hover {\n",
              "      background-color: #434B5C;\n",
              "      box-shadow: 0px 1px 3px 1px rgba(0, 0, 0, 0.15);\n",
              "      filter: drop-shadow(0px 1px 2px rgba(0, 0, 0, 0.3));\n",
              "      fill: #FFFFFF;\n",
              "    }\n",
              "  </style>\n",
              "\n",
              "    <script>\n",
              "      const buttonEl =\n",
              "        document.querySelector('#df-d80bc10a-94a0-40ce-8771-a8e80bd35066 button.colab-df-convert');\n",
              "      buttonEl.style.display =\n",
              "        google.colab.kernel.accessAllowed ? 'block' : 'none';\n",
              "\n",
              "      async function convertToInteractive(key) {\n",
              "        const element = document.querySelector('#df-d80bc10a-94a0-40ce-8771-a8e80bd35066');\n",
              "        const dataTable =\n",
              "          await google.colab.kernel.invokeFunction('convertToInteractive',\n",
              "                                                    [key], {});\n",
              "        if (!dataTable) return;\n",
              "\n",
              "        const docLinkHtml = 'Like what you see? Visit the ' +\n",
              "          '<a target=\"_blank\" href=https://colab.research.google.com/notebooks/data_table.ipynb>data table notebook</a>'\n",
              "          + ' to learn more about interactive tables.';\n",
              "        element.innerHTML = '';\n",
              "        dataTable['output_type'] = 'display_data';\n",
              "        await google.colab.output.renderOutput(dataTable, element);\n",
              "        const docLink = document.createElement('div');\n",
              "        docLink.innerHTML = docLinkHtml;\n",
              "        element.appendChild(docLink);\n",
              "      }\n",
              "    </script>\n",
              "  </div>\n",
              "\n",
              "\n",
              "<div id=\"df-a3b07b9f-89aa-49f9-9a4d-ad8b0dfb2d87\">\n",
              "  <button class=\"colab-df-quickchart\" onclick=\"quickchart('df-a3b07b9f-89aa-49f9-9a4d-ad8b0dfb2d87')\"\n",
              "            title=\"Suggest charts.\"\n",
              "            style=\"display:none;\">\n",
              "\n",
              "<svg xmlns=\"http://www.w3.org/2000/svg\" height=\"24px\"viewBox=\"0 0 24 24\"\n",
              "     width=\"24px\">\n",
              "    <g>\n",
              "        <path d=\"M19 3H5c-1.1 0-2 .9-2 2v14c0 1.1.9 2 2 2h14c1.1 0 2-.9 2-2V5c0-1.1-.9-2-2-2zM9 17H7v-7h2v7zm4 0h-2V7h2v10zm4 0h-2v-4h2v4z\"/>\n",
              "    </g>\n",
              "</svg>\n",
              "  </button>\n",
              "\n",
              "<style>\n",
              "  .colab-df-quickchart {\n",
              "      --bg-color: #E8F0FE;\n",
              "      --fill-color: #1967D2;\n",
              "      --hover-bg-color: #E2EBFA;\n",
              "      --hover-fill-color: #174EA6;\n",
              "      --disabled-fill-color: #AAA;\n",
              "      --disabled-bg-color: #DDD;\n",
              "  }\n",
              "\n",
              "  [theme=dark] .colab-df-quickchart {\n",
              "      --bg-color: #3B4455;\n",
              "      --fill-color: #D2E3FC;\n",
              "      --hover-bg-color: #434B5C;\n",
              "      --hover-fill-color: #FFFFFF;\n",
              "      --disabled-bg-color: #3B4455;\n",
              "      --disabled-fill-color: #666;\n",
              "  }\n",
              "\n",
              "  .colab-df-quickchart {\n",
              "    background-color: var(--bg-color);\n",
              "    border: none;\n",
              "    border-radius: 50%;\n",
              "    cursor: pointer;\n",
              "    display: none;\n",
              "    fill: var(--fill-color);\n",
              "    height: 32px;\n",
              "    padding: 0;\n",
              "    width: 32px;\n",
              "  }\n",
              "\n",
              "  .colab-df-quickchart:hover {\n",
              "    background-color: var(--hover-bg-color);\n",
              "    box-shadow: 0 1px 2px rgba(60, 64, 67, 0.3), 0 1px 3px 1px rgba(60, 64, 67, 0.15);\n",
              "    fill: var(--button-hover-fill-color);\n",
              "  }\n",
              "\n",
              "  .colab-df-quickchart-complete:disabled,\n",
              "  .colab-df-quickchart-complete:disabled:hover {\n",
              "    background-color: var(--disabled-bg-color);\n",
              "    fill: var(--disabled-fill-color);\n",
              "    box-shadow: none;\n",
              "  }\n",
              "\n",
              "  .colab-df-spinner {\n",
              "    border: 2px solid var(--fill-color);\n",
              "    border-color: transparent;\n",
              "    border-bottom-color: var(--fill-color);\n",
              "    animation:\n",
              "      spin 1s steps(1) infinite;\n",
              "  }\n",
              "\n",
              "  @keyframes spin {\n",
              "    0% {\n",
              "      border-color: transparent;\n",
              "      border-bottom-color: var(--fill-color);\n",
              "      border-left-color: var(--fill-color);\n",
              "    }\n",
              "    20% {\n",
              "      border-color: transparent;\n",
              "      border-left-color: var(--fill-color);\n",
              "      border-top-color: var(--fill-color);\n",
              "    }\n",
              "    30% {\n",
              "      border-color: transparent;\n",
              "      border-left-color: var(--fill-color);\n",
              "      border-top-color: var(--fill-color);\n",
              "      border-right-color: var(--fill-color);\n",
              "    }\n",
              "    40% {\n",
              "      border-color: transparent;\n",
              "      border-right-color: var(--fill-color);\n",
              "      border-top-color: var(--fill-color);\n",
              "    }\n",
              "    60% {\n",
              "      border-color: transparent;\n",
              "      border-right-color: var(--fill-color);\n",
              "    }\n",
              "    80% {\n",
              "      border-color: transparent;\n",
              "      border-right-color: var(--fill-color);\n",
              "      border-bottom-color: var(--fill-color);\n",
              "    }\n",
              "    90% {\n",
              "      border-color: transparent;\n",
              "      border-bottom-color: var(--fill-color);\n",
              "    }\n",
              "  }\n",
              "</style>\n",
              "\n",
              "  <script>\n",
              "    async function quickchart(key) {\n",
              "      const quickchartButtonEl =\n",
              "        document.querySelector('#' + key + ' button');\n",
              "      quickchartButtonEl.disabled = true;  // To prevent multiple clicks.\n",
              "      quickchartButtonEl.classList.add('colab-df-spinner');\n",
              "      try {\n",
              "        const charts = await google.colab.kernel.invokeFunction(\n",
              "            'suggestCharts', [key], {});\n",
              "      } catch (error) {\n",
              "        console.error('Error during call to suggestCharts:', error);\n",
              "      }\n",
              "      quickchartButtonEl.classList.remove('colab-df-spinner');\n",
              "      quickchartButtonEl.classList.add('colab-df-quickchart-complete');\n",
              "    }\n",
              "    (() => {\n",
              "      let quickchartButtonEl =\n",
              "        document.querySelector('#df-a3b07b9f-89aa-49f9-9a4d-ad8b0dfb2d87 button');\n",
              "      quickchartButtonEl.style.display =\n",
              "        google.colab.kernel.accessAllowed ? 'block' : 'none';\n",
              "    })();\n",
              "  </script>\n",
              "</div>\n",
              "    </div>\n",
              "  </div>\n"
            ]
          },
          "metadata": {},
          "execution_count": 17
        }
      ]
    },
    {
      "cell_type": "markdown",
      "metadata": {
        "id": "81yF31X3mNY9"
      },
      "source": [
        "# Getting Started with Matplotlib"
      ]
    },
    {
      "cell_type": "markdown",
      "metadata": {
        "id": "gkkH6vrzlw_2"
      },
      "source": [
        "* **plt.bar():** Make a bar plot.\n",
        "* **plt.plot():** Can be used to make a line graph.\n",
        "\n",
        "_____________________________________________________________________________\n",
        "* **plt.xticks():** A list of positions at which ticks should be placed.\n",
        "* **plt.xlabel(label_name):** Set the label for the x-axis.\n",
        "* **plt.ylabel(label_name):** Set the label for the y-axis.\n",
        "\n",
        "* **plt.show():** Display a figure.\n",
        "* **plt.grid():** Configure the grid lines.\n",
        "\n",
        "______________________________________________________________________________\n",
        "\n",
        "* **plt.subplots():** Add a subplot to the current figure. It returns two arguments fig and ax where fig is figure and ax can be either a single Axes object or an array of Axes objects.\n",
        "* **ax.twinx():** Creates a twin Axes sharing the xaxis.\n",
        "* **ax.set_xlabel():** Set the label for the x-axis.\n",
        "* **ax.set_ylabel():** Set the label for the y-axis.\n",
        "* **ax.set_xticklabels():** Set the xaxis' labels with list of string labels.\n",
        "\n"
      ]
    },
    {
      "cell_type": "markdown",
      "metadata": {
        "id": "iqEanbtAUMZL"
      },
      "source": [
        "### ***Refer to the [matplotlib documentation](https://matplotlib.org/3.3.3/tutorials/index.html) for more details.***"
      ]
    },
    {
      "cell_type": "markdown",
      "metadata": {
        "id": "L36hRux9T0Y1"
      },
      "source": [
        "## **Example 1**"
      ]
    },
    {
      "cell_type": "markdown",
      "metadata": {
        "id": "OgdDV0fblw_2"
      },
      "source": [
        "\n",
        "5 students' marks are plotted on a bar graph."
      ]
    },
    {
      "cell_type": "code",
      "metadata": {
        "colab": {
          "base_uri": "https://localhost:8080/",
          "height": 449
        },
        "id": "fu8E_e3Ylw_2",
        "outputId": "defe55bf-b70c-409a-f6f8-c0f1f3ac4ee6"
      },
      "source": [
        "import matplotlib.pyplot as plt\n",
        "marks_scored = [34, 98, 67, 89, 100]\n",
        "roll_no = range(1, 6)\n",
        "plt.bar(roll_no, marks_scored)\n",
        "plt.xticks(roll_no)\n",
        "plt.xlabel('roll no')\n",
        "plt.ylabel('Marks scored')\n",
        "plt.show()"
      ],
      "execution_count": null,
      "outputs": [
        {
          "output_type": "display_data",
          "data": {
            "text/plain": [
              "<Figure size 640x480 with 1 Axes>"
            ],
            "image/png": "[encoded data removed]"
          },
          "metadata": {}
        }
      ]
    },
    {
      "cell_type": "markdown",
      "metadata": {
        "id": "I_BSEGVjUFNt"
      },
      "source": [
        "## **Example 2**"
      ]
    },
    {
      "cell_type": "markdown",
      "metadata": {
        "id": "xX5UkyBYPSqL"
      },
      "source": [
        "Plot y versus x as lines and/or markers."
      ]
    },
    {
      "cell_type": "code",
      "metadata": {
        "id": "O0gD03iXUJ1x",
        "colab": {
          "base_uri": "https://localhost:8080/",
          "height": 449
        },
        "outputId": "4adfa195-91be-4072-82c2-4a2e45123183"
      },
      "source": [
        "classes = [1,2,3,4,5]\n",
        "performance = [4, 7, 9, 8, 10]\n",
        "\n",
        "plt.plot(classes, performance)\n",
        "plt.xticks(classes)\n",
        "plt.xlabel('classes')\n",
        "plt.ylabel('performance')\n",
        "plt.grid()\n",
        "plt.show()"
      ],
      "execution_count": null,
      "outputs": [
        {
          "output_type": "display_data",
          "data": {
            "text/plain": [
              "<Figure size 640x480 with 1 Axes>"
            ],
            "image/png": "[encoded data removed]"
          },
          "metadata": {}
        }
      ]
    },
    {
      "cell_type": "markdown",
      "metadata": {
        "id": "EujW-708UFY3"
      },
      "source": [
        "## **Example 3**"
      ]
    },
    {
      "cell_type": "markdown",
      "metadata": {
        "id": "S1tQt6aMN-SZ"
      },
      "source": [
        "Create a set of subplots in a single graph"
      ]
    },
    {
      "cell_type": "code",
      "metadata": {
        "id": "qdtEsiq8ULcr",
        "colab": {
          "base_uri": "https://localhost:8080/",
          "height": 305
        },
        "outputId": "ce794586-8dd5-4157-9356-da2e1983815a"
      },
      "source": [
        "prices = [50, 60, 33, 45, 72, 100]\n",
        "quantity = [2, 5, 10, 12, 20, 8]\n",
        "products = ['pens', 'pencils', 'book', 'box', 'map', 'globe']\n",
        "\n",
        "fig, ax1 = plt.subplots()\n",
        "ax2 = ax1.twinx()\n",
        "\n",
        "ax1.bar(products, quantity, color='g')\n",
        "ax2.plot(products, prices, 'b')\n",
        "\n",
        "ax1.set_xlabel('Product Name')\n",
        "ax1.set_ylabel('Quantity Ordered', color='g')\n",
        "ax2.set_ylabel('Price ($)', color='b')\n",
        "\n",
        "ax1.set_xticklabels(products, rotation='vertical')\n",
        "\n",
        "plt.show()"
      ],
      "execution_count": null,
      "outputs": [
        {
          "output_type": "display_data",
          "data": {
            "image/png": "[encoded data removed]",
            "text/plain": [
              "<Figure size 432x288 with 2 Axes>"
            ]
          },
          "metadata": {
            "tags": [],
            "needs_background": "light"
          }
        }
      ]
    },
    {
      "cell_type": "markdown",
      "metadata": {
        "id": "hxngnHtr09wL"
      },
      "source": [
        "#**Question 1:**\n",
        "\n",
        "**What is the best time to display advertisements to maximize the likelihood of customers' buying products?**"
      ]
    },
    {
      "cell_type": "markdown",
      "metadata": {
        "id": "PAJwKgrP22YR"
      },
      "source": [
        " ## Cleaning the data:\n",
        "* Ensure that there are no rows that contain all NaN values in the data\n",
        "* Ensure that there are no duplicate rows.\n",
        "* Ensure that the columns are of the appropriate data types\n",
        "* Add appropriate new columns if needed"
      ]
    },
    {
      "cell_type": "code",
      "metadata": {
        "id": "d11a5zkb22YR"
      },
      "source": [
        "# WRITE YOUR CODE HERE\n",
        "shopping_df.dropna(how='all', inplace=True)\n",
        "shopping_df.drop_duplicates(inplace=True)\n",
        "shopping_df['Order Date']=pd.to_datetime(shopping_df['Order ID'])\n",
        "shopping_df['Order ID'] = shopping_df['Order ID'].astype(dtype=int)\n",
        "\n",
        "shopping_df['Hour'] = shopping_df['Order Date'].dt.hour\n",
        "shopping_df['Minute'] = shopping_df['Order Date'].dt.minute"
      ],
      "execution_count": null,
      "outputs": []
    },
    {
      "cell_type": "code",
      "source": [
        "shopping_df.head()"
      ],
      "metadata": {
        "colab": {
          "base_uri": "https://localhost:8080/",
          "height": 379
        },
        "id": "wH3iPaikhrZo",
        "outputId": "faef187d-9221-40eb-995b-1dc260d82b95"
      },
      "execution_count": null,
      "outputs": [
        {
          "output_type": "execute_result",
          "data": {
            "text/plain": [
              "   Order ID                   Product  Quantity Ordered  Price Each  \\\n",
              "0    150502                    iPhone               1.0      700.00   \n",
              "1    150503     AA Batteries (4-pack)               1.0        3.84   \n",
              "2    150504    27in 4K Gaming Monitor               1.0      389.99   \n",
              "3    150505  Lightning Charging Cable               1.0       14.95   \n",
              "4    150506     AA Batteries (4-pack)               2.0        3.84   \n",
              "\n",
              "                     Order Date                     Purchase Address  Hour  \\\n",
              "0 1970-01-01 00:00:00.000150502    866 Spruce St, Portland, ME 04101     0   \n",
              "1 1970-01-01 00:00:00.000150503  18 13th St, San Francisco, CA 94016     0   \n",
              "2 1970-01-01 00:00:00.000150504   52 6th St, New York City, NY 10001     0   \n",
              "3 1970-01-01 00:00:00.000150505     129 Cherry St, Atlanta, GA 30301     0   \n",
              "4 1970-01-01 00:00:00.000150506    548 Lincoln St, Seattle, WA 98101     0   \n",
              "\n",
              "   Minute  \n",
              "0       0  \n",
              "1       0  \n",
              "2       0  \n",
              "3       0  \n",
              "4       0  "
            ],
            "text/html": [
              "\n",
              "  <div id=\"df-1554a8ac-fcd7-496f-9411-a3f99380472b\" class=\"colab-df-container\">\n",
              "    <div>\n",
              "<style scoped>\n",
              "    .dataframe tbody tr th:only-of-type {\n",
              "        vertical-align: middle;\n",
              "    }\n",
              "\n",
              "    .dataframe tbody tr th {\n",
              "        vertical-align: top;\n",
              "    }\n",
              "\n",
              "    .dataframe thead th {\n",
              "        text-align: right;\n",
              "    }\n",
              "</style>\n",
              "<table border=\"1\" class=\"dataframe\">\n",
              "  <thead>\n",
              "    <tr style=\"text-align: right;\">\n",
              "      <th></th>\n",
              "      <th>Order ID</th>\n",
              "      <th>Product</th>\n",
              "      <th>Quantity Ordered</th>\n",
              "      <th>Price Each</th>\n",
              "      <th>Order Date</th>\n",
              "      <th>Purchase Address</th>\n",
              "      <th>Hour</th>\n",
              "      <th>Minute</th>\n",
              "    </tr>\n",
              "  </thead>\n",
              "  <tbody>\n",
              "    <tr>\n",
              "      <th>0</th>\n",
              "      <td>150502</td>\n",
              "      <td>iPhone</td>\n",
              "      <td>1.0</td>\n",
              "      <td>700.00</td>\n",
              "      <td>1970-01-01 00:00:00.000150502</td>\n",
              "      <td>866 Spruce St, Portland, ME 04101</td>\n",
              "      <td>0</td>\n",
              "      <td>0</td>\n",
              "    </tr>\n",
              "    <tr>\n",
              "      <th>1</th>\n",
              "      <td>150503</td>\n",
              "      <td>AA Batteries (4-pack)</td>\n",
              "      <td>1.0</td>\n",
              "      <td>3.84</td>\n",
              "      <td>1970-01-01 00:00:00.000150503</td>\n",
              "      <td>18 13th St, San Francisco, CA 94016</td>\n",
              "      <td>0</td>\n",
              "      <td>0</td>\n",
              "    </tr>\n",
              "    <tr>\n",
              "      <th>2</th>\n",
              "      <td>150504</td>\n",
              "      <td>27in 4K Gaming Monitor</td>\n",
              "      <td>1.0</td>\n",
              "      <td>389.99</td>\n",
              "      <td>1970-01-01 00:00:00.000150504</td>\n",
              "      <td>52 6th St, New York City, NY 10001</td>\n",
              "      <td>0</td>\n",
              "      <td>0</td>\n",
              "    </tr>\n",
              "    <tr>\n",
              "      <th>3</th>\n",
              "      <td>150505</td>\n",
              "      <td>Lightning Charging Cable</td>\n",
              "      <td>1.0</td>\n",
              "      <td>14.95</td>\n",
              "      <td>1970-01-01 00:00:00.000150505</td>\n",
              "      <td>129 Cherry St, Atlanta, GA 30301</td>\n",
              "      <td>0</td>\n",
              "      <td>0</td>\n",
              "    </tr>\n",
              "    <tr>\n",
              "      <th>4</th>\n",
              "      <td>150506</td>\n",
              "      <td>AA Batteries (4-pack)</td>\n",
              "      <td>2.0</td>\n",
              "      <td>3.84</td>\n",
              "      <td>1970-01-01 00:00:00.000150506</td>\n",
              "      <td>548 Lincoln St, Seattle, WA 98101</td>\n",
              "      <td>0</td>\n",
              "      <td>0</td>\n",
              "    </tr>\n",
              "  </tbody>\n",
              "</table>\n",
              "</div>\n",
              "    <div class=\"colab-df-buttons\">\n",
              "\n",
              "  <div class=\"colab-df-container\">\n",
              "    <button class=\"colab-df-convert\" onclick=\"convertToInteractive('df-1554a8ac-fcd7-496f-9411-a3f99380472b')\"\n",
              "            title=\"Convert this dataframe to an interactive table.\"\n",
              "            style=\"display:none;\">\n",
              "\n",
              "  <svg xmlns=\"http://www.w3.org/2000/svg\" height=\"24px\" viewBox=\"0 -960 960 960\">\n",
              "    <path d=\"M120-120v-720h720v720H120Zm60-500h600v-160H180v160Zm220 220h160v-160H400v160Zm0 220h160v-160H400v160ZM180-400h160v-160H180v160Zm440 0h160v-160H620v160ZM180-180h160v-160H180v160Zm440 0h160v-160H620v160Z\"/>\n",
              "  </svg>\n",
              "    </button>\n",
              "\n",
              "  <style>\n",
              "    .colab-df-container {\n",
              "      display:flex;\n",
              "      gap: 12px;\n",
              "    }\n",
              "\n",
              "    .colab-df-convert {\n",
              "      background-color: #E8F0FE;\n",
              "      border: none;\n",
              "      border-radius: 50%;\n",
              "      cursor: pointer;\n",
              "      display: none;\n",
              "      fill: #1967D2;\n",
              "      height: 32px;\n",
              "      padding: 0 0 0 0;\n",
              "      width: 32px;\n",
              "    }\n",
              "\n",
              "    .colab-df-convert:hover {\n",
              "      background-color: #E2EBFA;\n",
              "      box-shadow: 0px 1px 2px rgba(60, 64, 67, 0.3), 0px 1px 3px 1px rgba(60, 64, 67, 0.15);\n",
              "      fill: #174EA6;\n",
              "    }\n",
              "\n",
              "    .colab-df-buttons div {\n",
              "      margin-bottom: 4px;\n",
              "    }\n",
              "\n",
              "    [theme=dark] .colab-df-convert {\n",
              "      background-color: #3B4455;\n",
              "      fill: #D2E3FC;\n",
              "    }\n",
              "\n",
              "    [theme=dark] .colab-df-convert:hover {\n",
              "      background-color: #434B5C;\n",
              "      box-shadow: 0px 1px 3px 1px rgba(0, 0, 0, 0.15);\n",
              "      filter: drop-shadow(0px 1px 2px rgba(0, 0, 0, 0.3));\n",
              "      fill: #FFFFFF;\n",
              "    }\n",
              "  </style>\n",
              "\n",
              "    <script>\n",
              "      const buttonEl =\n",
              "        document.querySelector('#df-1554a8ac-fcd7-496f-9411-a3f99380472b button.colab-df-convert');\n",
              "      buttonEl.style.display =\n",
              "        google.colab.kernel.accessAllowed ? 'block' : 'none';\n",
              "\n",
              "      async function convertToInteractive(key) {\n",
              "        const element = document.querySelector('#df-1554a8ac-fcd7-496f-9411-a3f99380472b');\n",
              "        const dataTable =\n",
              "          await google.colab.kernel.invokeFunction('convertToInteractive',\n",
              "                                                    [key], {});\n",
              "        if (!dataTable) return;\n",
              "\n",
              "        const docLinkHtml = 'Like what you see? Visit the ' +\n",
              "          '<a target=\"_blank\" href=https://colab.research.google.com/notebooks/data_table.ipynb>data table notebook</a>'\n",
              "          + ' to learn more about interactive tables.';\n",
              "        element.innerHTML = '';\n",
              "        dataTable['output_type'] = 'display_data';\n",
              "        await google.colab.output.renderOutput(dataTable, element);\n",
              "        const docLink = document.createElement('div');\n",
              "        docLink.innerHTML = docLinkHtml;\n",
              "        element.appendChild(docLink);\n",
              "      }\n",
              "    </script>\n",
              "  </div>\n",
              "\n",
              "\n",
              "<div id=\"df-9679e5c6-e279-47b3-badd-5b398c7a4796\">\n",
              "  <button class=\"colab-df-quickchart\" onclick=\"quickchart('df-9679e5c6-e279-47b3-badd-5b398c7a4796')\"\n",
              "            title=\"Suggest charts.\"\n",
              "            style=\"display:none;\">\n",
              "\n",
              "<svg xmlns=\"http://www.w3.org/2000/svg\" height=\"24px\"viewBox=\"0 0 24 24\"\n",
              "     width=\"24px\">\n",
              "    <g>\n",
              "        <path d=\"M19 3H5c-1.1 0-2 .9-2 2v14c0 1.1.9 2 2 2h14c1.1 0 2-.9 2-2V5c0-1.1-.9-2-2-2zM9 17H7v-7h2v7zm4 0h-2V7h2v10zm4 0h-2v-4h2v4z\"/>\n",
              "    </g>\n",
              "</svg>\n",
              "  </button>\n",
              "\n",
              "<style>\n",
              "  .colab-df-quickchart {\n",
              "      --bg-color: #E8F0FE;\n",
              "      --fill-color: #1967D2;\n",
              "      --hover-bg-color: #E2EBFA;\n",
              "      --hover-fill-color: #174EA6;\n",
              "      --disabled-fill-color: #AAA;\n",
              "      --disabled-bg-color: #DDD;\n",
              "  }\n",
              "\n",
              "  [theme=dark] .colab-df-quickchart {\n",
              "      --bg-color: #3B4455;\n",
              "      --fill-color: #D2E3FC;\n",
              "      --hover-bg-color: #434B5C;\n",
              "      --hover-fill-color: #FFFFFF;\n",
              "      --disabled-bg-color: #3B4455;\n",
              "      --disabled-fill-color: #666;\n",
              "  }\n",
              "\n",
              "  .colab-df-quickchart {\n",
              "    background-color: var(--bg-color);\n",
              "    border: none;\n",
              "    border-radius: 50%;\n",
              "    cursor: pointer;\n",
              "    display: none;\n",
              "    fill: var(--fill-color);\n",
              "    height: 32px;\n",
              "    padding: 0;\n",
              "    width: 32px;\n",
              "  }\n",
              "\n",
              "  .colab-df-quickchart:hover {\n",
              "    background-color: var(--hover-bg-color);\n",
              "    box-shadow: 0 1px 2px rgba(60, 64, 67, 0.3), 0 1px 3px 1px rgba(60, 64, 67, 0.15);\n",
              "    fill: var(--button-hover-fill-color);\n",
              "  }\n",
              "\n",
              "  .colab-df-quickchart-complete:disabled,\n",
              "  .colab-df-quickchart-complete:disabled:hover {\n",
              "    background-color: var(--disabled-bg-color);\n",
              "    fill: var(--disabled-fill-color);\n",
              "    box-shadow: none;\n",
              "  }\n",
              "\n",
              "  .colab-df-spinner {\n",
              "    border: 2px solid var(--fill-color);\n",
              "    border-color: transparent;\n",
              "    border-bottom-color: var(--fill-color);\n",
              "    animation:\n",
              "      spin 1s steps(1) infinite;\n",
              "  }\n",
              "\n",
              "  @keyframes spin {\n",
              "    0% {\n",
              "      border-color: transparent;\n",
              "      border-bottom-color: var(--fill-color);\n",
              "      border-left-color: var(--fill-color);\n",
              "    }\n",
              "    20% {\n",
              "      border-color: transparent;\n",
              "      border-left-color: var(--fill-color);\n",
              "      border-top-color: var(--fill-color);\n",
              "    }\n",
              "    30% {\n",
              "      border-color: transparent;\n",
              "      border-left-color: var(--fill-color);\n",
              "      border-top-color: var(--fill-color);\n",
              "      border-right-color: var(--fill-color);\n",
              "    }\n",
              "    40% {\n",
              "      border-color: transparent;\n",
              "      border-right-color: var(--fill-color);\n",
              "      border-top-color: var(--fill-color);\n",
              "    }\n",
              "    60% {\n",
              "      border-color: transparent;\n",
              "      border-right-color: var(--fill-color);\n",
              "    }\n",
              "    80% {\n",
              "      border-color: transparent;\n",
              "      border-right-color: var(--fill-color);\n",
              "      border-bottom-color: var(--fill-color);\n",
              "    }\n",
              "    90% {\n",
              "      border-color: transparent;\n",
              "      border-bottom-color: var(--fill-color);\n",
              "    }\n",
              "  }\n",
              "</style>\n",
              "\n",
              "  <script>\n",
              "    async function quickchart(key) {\n",
              "      const quickchartButtonEl =\n",
              "        document.querySelector('#' + key + ' button');\n",
              "      quickchartButtonEl.disabled = true;  // To prevent multiple clicks.\n",
              "      quickchartButtonEl.classList.add('colab-df-spinner');\n",
              "      try {\n",
              "        const charts = await google.colab.kernel.invokeFunction(\n",
              "            'suggestCharts', [key], {});\n",
              "      } catch (error) {\n",
              "        console.error('Error during call to suggestCharts:', error);\n",
              "      }\n",
              "      quickchartButtonEl.classList.remove('colab-df-spinner');\n",
              "      quickchartButtonEl.classList.add('colab-df-quickchart-complete');\n",
              "    }\n",
              "    (() => {\n",
              "      let quickchartButtonEl =\n",
              "        document.querySelector('#df-9679e5c6-e279-47b3-badd-5b398c7a4796 button');\n",
              "      quickchartButtonEl.style.display =\n",
              "        google.colab.kernel.accessAllowed ? 'block' : 'none';\n",
              "    })();\n",
              "  </script>\n",
              "</div>\n",
              "    </div>\n",
              "  </div>\n"
            ]
          },
          "metadata": {},
          "execution_count": 19
        }
      ]
    },
    {
      "cell_type": "markdown",
      "metadata": {
        "id": "LDwM7DNr3XRo"
      },
      "source": [
        "##Analysis:\n",
        "* Find the total number of orders made each hour.\n",
        "* Find the hour with the highest number of orders."
      ]
    },
    {
      "cell_type": "code",
      "metadata": {
        "id": "UMoOf5gX3XRq",
        "colab": {
          "base_uri": "https://localhost:8080/"
        },
        "outputId": "820635ad-313e-468c-810e-2a556de3134f"
      },
      "source": [
        "# WRITE YOUR CODE HERE\n",
        "results = shopping_df.groupby(['Hour']).count()['Order ID']\n",
        "print(results, \"\\n\")\n",
        "results.idxmax()"
      ],
      "execution_count": null,
      "outputs": [
        {
          "output_type": "stream",
          "name": "stdout",
          "text": [
            "Hour\n",
            "0    185686\n",
            "Name: Order ID, dtype: int64 \n",
            "\n"
          ]
        },
        {
          "output_type": "execute_result",
          "data": {
            "text/plain": [
              "0"
            ]
          },
          "metadata": {},
          "execution_count": 25
        }
      ]
    },
    {
      "cell_type": "markdown",
      "metadata": {
        "id": "Kj4FMIHC36vv"
      },
      "source": [
        " ## Plotting:\n",
        "* Plot a line graph between hours and the number of orders to get a visual understanding of what the best time to display advertisements is.\n",
        "\n",
        "**Note:** To plot the graph, you can use the matplotlib library. Refer to the section **_Getting Started with Matplotlib_** for further details."
      ]
    },
    {
      "cell_type": "code",
      "metadata": {
        "id": "iYpbwcs2PSOq",
        "colab": {
          "base_uri": "https://localhost:8080/",
          "height": 449
        },
        "outputId": "93a0bed8-d725-41e9-c18a-228724c8ec08"
      },
      "source": [
        "hours = results.index.values\n",
        "plt.plot(hours, results)\n",
        "plt.xticks(hours)\n",
        "plt.xlabel('Hour')\n",
        "plt.ylabel('Number of Orders')\n",
        "plt.grid()\n",
        "plt.show()\n",
        "\n",
        "\n"
      ],
      "execution_count": null,
      "outputs": [
        {
          "output_type": "display_data",
          "data": {
            "text/plain": [
              "<Figure size 640x480 with 1 Axes>"
            ],
            "image/png": "[encoded data removed]"
          },
          "metadata": {}
        }
      ]
    },
    {
      "cell_type": "markdown",
      "metadata": {
        "id": "2uNMRTEV59Ty"
      },
      "source": [
        "#**Question 2:**\n",
        "\n",
        "**What products are most often sold together?**"
      ]
    },
    {
      "cell_type": "markdown",
      "metadata": {
        "id": "fGguAOCO1FFK"
      },
      "source": [
        "##Analysis -1:\n",
        "* Find the set of products(`Grouped orders`) ordered together.\n",
        "\n",
        "**Hint**:\n",
        "* If an iPhone, Macbook Pro Laptop and Lightning Charging Cable were ordered together, the `Grouped Orders` column should contain the string 'iPhone,Macbook Pro Laptop,Lightning Charging Cable' for the corresponding order_id in the dataframe.\n",
        "* Use `pandas.core.groupby.DataFrameGroupBy.transform` to concatenate the product names.\n",
        "\n"
      ]
    },
    {
      "cell_type": "code",
      "metadata": {
        "id": "xGBzPQ7_bZ-F"
      },
      "source": [
        "# WRITE YOUR CODE HERE\n",
        "grouped_orders_df = shopping_df.copy()\n",
        "grouped_orders_df['Grouped Orders'] = grouped_orders_df.groupby('Order ID')['Product'].transform(lambda x: ','.join(x))"
      ],
      "execution_count": null,
      "outputs": []
    },
    {
      "cell_type": "markdown",
      "metadata": {
        "id": "Ea0trnOb1pkM"
      },
      "source": [
        "## Cleaning Data\n",
        "\n",
        "* Remove any duplicate `Grouped Orders` that have the same `Order ID`."
      ]
    },
    {
      "cell_type": "code",
      "metadata": {
        "id": "uEnGQu2p17ig",
        "colab": {
          "base_uri": "https://localhost:8080/",
          "height": 831
        },
        "outputId": "8c55e396-8904-432d-87e9-e084dd54cc94"
      },
      "source": [
        "# WRITE YOUR CODE HERE\n",
        "grouped_orders_df.drop_duplicates(subset=['Order ID', 'Grouped Orders'],inplace=True)\n",
        "grouped_orders_df.head(10)"
      ],
      "execution_count": null,
      "outputs": [
        {
          "output_type": "execute_result",
          "data": {
            "text/plain": [
              "   Order ID                   Product  Quantity Ordered  Price Each  \\\n",
              "0    150502                    iPhone               1.0      700.00   \n",
              "1    150503     AA Batteries (4-pack)               1.0        3.84   \n",
              "2    150504    27in 4K Gaming Monitor               1.0      389.99   \n",
              "3    150505  Lightning Charging Cable               1.0       14.95   \n",
              "4    150506     AA Batteries (4-pack)               2.0        3.84   \n",
              "5    150507  Lightning Charging Cable               1.0       14.95   \n",
              "6    150508     AA Batteries (4-pack)               1.0        3.84   \n",
              "7    150509  Apple Airpods Headphones               1.0      150.00   \n",
              "8    150510      USB-C Charging Cable               1.0       11.95   \n",
              "9    150511      USB-C Charging Cable               1.0       11.95   \n",
              "\n",
              "                     Order Date                        Purchase Address  Hour  \\\n",
              "0 1970-01-01 00:00:00.000150502       866 Spruce St, Portland, ME 04101     0   \n",
              "1 1970-01-01 00:00:00.000150503     18 13th St, San Francisco, CA 94016     0   \n",
              "2 1970-01-01 00:00:00.000150504      52 6th St, New York City, NY 10001     0   \n",
              "3 1970-01-01 00:00:00.000150505        129 Cherry St, Atlanta, GA 30301     0   \n",
              "4 1970-01-01 00:00:00.000150506       548 Lincoln St, Seattle, WA 98101     0   \n",
              "5 1970-01-01 00:00:00.000150507           387 12th St, Austin, TX 73301     0   \n",
              "6 1970-01-01 00:00:00.000150508  622 Center St, San Francisco, CA 94016     0   \n",
              "7 1970-01-01 00:00:00.000150509           921 6th St, Seattle, WA 98101     0   \n",
              "8 1970-01-01 00:00:00.000150510       451 2nd St, Los Angeles, CA 90001     0   \n",
              "9 1970-01-01 00:00:00.000150511   689 River St, San Francisco, CA 94016     0   \n",
              "\n",
              "   Minute            Grouped Orders  \n",
              "0       0                    iPhone  \n",
              "1       0     AA Batteries (4-pack)  \n",
              "2       0    27in 4K Gaming Monitor  \n",
              "3       0  Lightning Charging Cable  \n",
              "4       0     AA Batteries (4-pack)  \n",
              "5       0  Lightning Charging Cable  \n",
              "6       0     AA Batteries (4-pack)  \n",
              "7       0  Apple Airpods Headphones  \n",
              "8       0      USB-C Charging Cable  \n",
              "9       0      USB-C Charging Cable  "
            ],
            "text/html": [
              "\n",
              "  <div id=\"df-5d11910f-e25b-4481-9f3a-8f9af92a0165\" class=\"colab-df-container\">\n",
              "    <div>\n",
              "<style scoped>\n",
              "    .dataframe tbody tr th:only-of-type {\n",
              "        vertical-align: middle;\n",
              "    }\n",
              "\n",
              "    .dataframe tbody tr th {\n",
              "        vertical-align: top;\n",
              "    }\n",
              "\n",
              "    .dataframe thead th {\n",
              "        text-align: right;\n",
              "    }\n",
              "</style>\n",
              "<table border=\"1\" class=\"dataframe\">\n",
              "  <thead>\n",
              "    <tr style=\"text-align: right;\">\n",
              "      <th></th>\n",
              "      <th>Order ID</th>\n",
              "      <th>Product</th>\n",
              "      <th>Quantity Ordered</th>\n",
              "      <th>Price Each</th>\n",
              "      <th>Order Date</th>\n",
              "      <th>Purchase Address</th>\n",
              "      <th>Hour</th>\n",
              "      <th>Minute</th>\n",
              "      <th>Grouped Orders</th>\n",
              "    </tr>\n",
              "  </thead>\n",
              "  <tbody>\n",
              "    <tr>\n",
              "      <th>0</th>\n",
              "      <td>150502</td>\n",
              "      <td>iPhone</td>\n",
              "      <td>1.0</td>\n",
              "      <td>700.00</td>\n",
              "      <td>1970-01-01 00:00:00.000150502</td>\n",
              "      <td>866 Spruce St, Portland, ME 04101</td>\n",
              "      <td>0</td>\n",
              "      <td>0</td>\n",
              "      <td>iPhone</td>\n",
              "    </tr>\n",
              "    <tr>\n",
              "      <th>1</th>\n",
              "      <td>150503</td>\n",
              "      <td>AA Batteries (4-pack)</td>\n",
              "      <td>1.0</td>\n",
              "      <td>3.84</td>\n",
              "      <td>1970-01-01 00:00:00.000150503</td>\n",
              "      <td>18 13th St, San Francisco, CA 94016</td>\n",
              "      <td>0</td>\n",
              "      <td>0</td>\n",
              "      <td>AA Batteries (4-pack)</td>\n",
              "    </tr>\n",
              "    <tr>\n",
              "      <th>2</th>\n",
              "      <td>150504</td>\n",
              "      <td>27in 4K Gaming Monitor</td>\n",
              "      <td>1.0</td>\n",
              "      <td>389.99</td>\n",
              "      <td>1970-01-01 00:00:00.000150504</td>\n",
              "      <td>52 6th St, New York City, NY 10001</td>\n",
              "      <td>0</td>\n",
              "      <td>0</td>\n",
              "      <td>27in 4K Gaming Monitor</td>\n",
              "    </tr>\n",
              "    <tr>\n",
              "      <th>3</th>\n",
              "      <td>150505</td>\n",
              "      <td>Lightning Charging Cable</td>\n",
              "      <td>1.0</td>\n",
              "      <td>14.95</td>\n",
              "      <td>1970-01-01 00:00:00.000150505</td>\n",
              "      <td>129 Cherry St, Atlanta, GA 30301</td>\n",
              "      <td>0</td>\n",
              "      <td>0</td>\n",
              "      <td>Lightning Charging Cable</td>\n",
              "    </tr>\n",
              "    <tr>\n",
              "      <th>4</th>\n",
              "      <td>150506</td>\n",
              "      <td>AA Batteries (4-pack)</td>\n",
              "      <td>2.0</td>\n",
              "      <td>3.84</td>\n",
              "      <td>1970-01-01 00:00:00.000150506</td>\n",
              "      <td>548 Lincoln St, Seattle, WA 98101</td>\n",
              "      <td>0</td>\n",
              "      <td>0</td>\n",
              "      <td>AA Batteries (4-pack)</td>\n",
              "    </tr>\n",
              "    <tr>\n",
              "      <th>5</th>\n",
              "      <td>150507</td>\n",
              "      <td>Lightning Charging Cable</td>\n",
              "      <td>1.0</td>\n",
              "      <td>14.95</td>\n",
              "      <td>1970-01-01 00:00:00.000150507</td>\n",
              "      <td>387 12th St, Austin, TX 73301</td>\n",
              "      <td>0</td>\n",
              "      <td>0</td>\n",
              "      <td>Lightning Charging Cable</td>\n",
              "    </tr>\n",
              "    <tr>\n",
              "      <th>6</th>\n",
              "      <td>150508</td>\n",
              "      <td>AA Batteries (4-pack)</td>\n",
              "      <td>1.0</td>\n",
              "      <td>3.84</td>\n",
              "      <td>1970-01-01 00:00:00.000150508</td>\n",
              "      <td>622 Center St, San Francisco, CA 94016</td>\n",
              "      <td>0</td>\n",
              "      <td>0</td>\n",
              "      <td>AA Batteries (4-pack)</td>\n",
              "    </tr>\n",
              "    <tr>\n",
              "      <th>7</th>\n",
              "      <td>150509</td>\n",
              "      <td>Apple Airpods Headphones</td>\n",
              "      <td>1.0</td>\n",
              "      <td>150.00</td>\n",
              "      <td>1970-01-01 00:00:00.000150509</td>\n",
              "      <td>921 6th St, Seattle, WA 98101</td>\n",
              "      <td>0</td>\n",
              "      <td>0</td>\n",
              "      <td>Apple Airpods Headphones</td>\n",
              "    </tr>\n",
              "    <tr>\n",
              "      <th>8</th>\n",
              "      <td>150510</td>\n",
              "      <td>USB-C Charging Cable</td>\n",
              "      <td>1.0</td>\n",
              "      <td>11.95</td>\n",
              "      <td>1970-01-01 00:00:00.000150510</td>\n",
              "      <td>451 2nd St, Los Angeles, CA 90001</td>\n",
              "      <td>0</td>\n",
              "      <td>0</td>\n",
              "      <td>USB-C Charging Cable</td>\n",
              "    </tr>\n",
              "    <tr>\n",
              "      <th>9</th>\n",
              "      <td>150511</td>\n",
              "      <td>USB-C Charging Cable</td>\n",
              "      <td>1.0</td>\n",
              "      <td>11.95</td>\n",
              "      <td>1970-01-01 00:00:00.000150511</td>\n",
              "      <td>689 River St, San Francisco, CA 94016</td>\n",
              "      <td>0</td>\n",
              "      <td>0</td>\n",
              "      <td>USB-C Charging Cable</td>\n",
              "    </tr>\n",
              "  </tbody>\n",
              "</table>\n",
              "</div>\n",
              "    <div class=\"colab-df-buttons\">\n",
              "\n",
              "  <div class=\"colab-df-container\">\n",
              "    <button class=\"colab-df-convert\" onclick=\"convertToInteractive('df-5d11910f-e25b-4481-9f3a-8f9af92a0165')\"\n",
              "            title=\"Convert this dataframe to an interactive table.\"\n",
              "            style=\"display:none;\">\n",
              "\n",
              "  <svg xmlns=\"http://www.w3.org/2000/svg\" height=\"24px\" viewBox=\"0 -960 960 960\">\n",
              "    <path d=\"M120-120v-720h720v720H120Zm60-500h600v-160H180v160Zm220 220h160v-160H400v160Zm0 220h160v-160H400v160ZM180-400h160v-160H180v160Zm440 0h160v-160H620v160ZM180-180h160v-160H180v160Zm440 0h160v-160H620v160Z\"/>\n",
              "  </svg>\n",
              "    </button>\n",
              "\n",
              "  <style>\n",
              "    .colab-df-container {\n",
              "      display:flex;\n",
              "      gap: 12px;\n",
              "    }\n",
              "\n",
              "    .colab-df-convert {\n",
              "      background-color: #E8F0FE;\n",
              "      border: none;\n",
              "      border-radius: 50%;\n",
              "      cursor: pointer;\n",
              "      display: none;\n",
              "      fill: #1967D2;\n",
              "      height: 32px;\n",
              "      padding: 0 0 0 0;\n",
              "      width: 32px;\n",
              "    }\n",
              "\n",
              "    .colab-df-convert:hover {\n",
              "      background-color: #E2EBFA;\n",
              "      box-shadow: 0px 1px 2px rgba(60, 64, 67, 0.3), 0px 1px 3px 1px rgba(60, 64, 67, 0.15);\n",
              "      fill: #174EA6;\n",
              "    }\n",
              "\n",
              "    .colab-df-buttons div {\n",
              "      margin-bottom: 4px;\n",
              "    }\n",
              "\n",
              "    [theme=dark] .colab-df-convert {\n",
              "      background-color: #3B4455;\n",
              "      fill: #D2E3FC;\n",
              "    }\n",
              "\n",
              "    [theme=dark] .colab-df-convert:hover {\n",
              "      background-color: #434B5C;\n",
              "      box-shadow: 0px 1px 3px 1px rgba(0, 0, 0, 0.15);\n",
              "      filter: drop-shadow(0px 1px 2px rgba(0, 0, 0, 0.3));\n",
              "      fill: #FFFFFF;\n",
              "    }\n",
              "  </style>\n",
              "\n",
              "    <script>\n",
              "      const buttonEl =\n",
              "        document.querySelector('#df-5d11910f-e25b-4481-9f3a-8f9af92a0165 button.colab-df-convert');\n",
              "      buttonEl.style.display =\n",
              "        google.colab.kernel.accessAllowed ? 'block' : 'none';\n",
              "\n",
              "      async function convertToInteractive(key) {\n",
              "        const element = document.querySelector('#df-5d11910f-e25b-4481-9f3a-8f9af92a0165');\n",
              "        const dataTable =\n",
              "          await google.colab.kernel.invokeFunction('convertToInteractive',\n",
              "                                                    [key], {});\n",
              "        if (!dataTable) return;\n",
              "\n",
              "        const docLinkHtml = 'Like what you see? Visit the ' +\n",
              "          '<a target=\"_blank\" href=https://colab.research.google.com/notebooks/data_table.ipynb>data table notebook</a>'\n",
              "          + ' to learn more about interactive tables.';\n",
              "        element.innerHTML = '';\n",
              "        dataTable['output_type'] = 'display_data';\n",
              "        await google.colab.output.renderOutput(dataTable, element);\n",
              "        const docLink = document.createElement('div');\n",
              "        docLink.innerHTML = docLinkHtml;\n",
              "        element.appendChild(docLink);\n",
              "      }\n",
              "    </script>\n",
              "  </div>\n",
              "\n",
              "\n",
              "<div id=\"df-0a747cc4-e2eb-401f-859d-548ed20253e6\">\n",
              "  <button class=\"colab-df-quickchart\" onclick=\"quickchart('df-0a747cc4-e2eb-401f-859d-548ed20253e6')\"\n",
              "            title=\"Suggest charts.\"\n",
              "            style=\"display:none;\">\n",
              "\n",
              "<svg xmlns=\"http://www.w3.org/2000/svg\" height=\"24px\"viewBox=\"0 0 24 24\"\n",
              "     width=\"24px\">\n",
              "    <g>\n",
              "        <path d=\"M19 3H5c-1.1 0-2 .9-2 2v14c0 1.1.9 2 2 2h14c1.1 0 2-.9 2-2V5c0-1.1-.9-2-2-2zM9 17H7v-7h2v7zm4 0h-2V7h2v10zm4 0h-2v-4h2v4z\"/>\n",
              "    </g>\n",
              "</svg>\n",
              "  </button>\n",
              "\n",
              "<style>\n",
              "  .colab-df-quickchart {\n",
              "      --bg-color: #E8F0FE;\n",
              "      --fill-color: #1967D2;\n",
              "      --hover-bg-color: #E2EBFA;\n",
              "      --hover-fill-color: #174EA6;\n",
              "      --disabled-fill-color: #AAA;\n",
              "      --disabled-bg-color: #DDD;\n",
              "  }\n",
              "\n",
              "  [theme=dark] .colab-df-quickchart {\n",
              "      --bg-color: #3B4455;\n",
              "      --fill-color: #D2E3FC;\n",
              "      --hover-bg-color: #434B5C;\n",
              "      --hover-fill-color: #FFFFFF;\n",
              "      --disabled-bg-color: #3B4455;\n",
              "      --disabled-fill-color: #666;\n",
              "  }\n",
              "\n",
              "  .colab-df-quickchart {\n",
              "    background-color: var(--bg-color);\n",
              "    border: none;\n",
              "    border-radius: 50%;\n",
              "    cursor: pointer;\n",
              "    display: none;\n",
              "    fill: var(--fill-color);\n",
              "    height: 32px;\n",
              "    padding: 0;\n",
              "    width: 32px;\n",
              "  }\n",
              "\n",
              "  .colab-df-quickchart:hover {\n",
              "    background-color: var(--hover-bg-color);\n",
              "    box-shadow: 0 1px 2px rgba(60, 64, 67, 0.3), 0 1px 3px 1px rgba(60, 64, 67, 0.15);\n",
              "    fill: var(--button-hover-fill-color);\n",
              "  }\n",
              "\n",
              "  .colab-df-quickchart-complete:disabled,\n",
              "  .colab-df-quickchart-complete:disabled:hover {\n",
              "    background-color: var(--disabled-bg-color);\n",
              "    fill: var(--disabled-fill-color);\n",
              "    box-shadow: none;\n",
              "  }\n",
              "\n",
              "  .colab-df-spinner {\n",
              "    border: 2px solid var(--fill-color);\n",
              "    border-color: transparent;\n",
              "    border-bottom-color: var(--fill-color);\n",
              "    animation:\n",
              "      spin 1s steps(1) infinite;\n",
              "  }\n",
              "\n",
              "  @keyframes spin {\n",
              "    0% {\n",
              "      border-color: transparent;\n",
              "      border-bottom-color: var(--fill-color);\n",
              "      border-left-color: var(--fill-color);\n",
              "    }\n",
              "    20% {\n",
              "      border-color: transparent;\n",
              "      border-left-color: var(--fill-color);\n",
              "      border-top-color: var(--fill-color);\n",
              "    }\n",
              "    30% {\n",
              "      border-color: transparent;\n",
              "      border-left-color: var(--fill-color);\n",
              "      border-top-color: var(--fill-color);\n",
              "      border-right-color: var(--fill-color);\n",
              "    }\n",
              "    40% {\n",
              "      border-color: transparent;\n",
              "      border-right-color: var(--fill-color);\n",
              "      border-top-color: var(--fill-color);\n",
              "    }\n",
              "    60% {\n",
              "      border-color: transparent;\n",
              "      border-right-color: var(--fill-color);\n",
              "    }\n",
              "    80% {\n",
              "      border-color: transparent;\n",
              "      border-right-color: var(--fill-color);\n",
              "      border-bottom-color: var(--fill-color);\n",
              "    }\n",
              "    90% {\n",
              "      border-color: transparent;\n",
              "      border-bottom-color: var(--fill-color);\n",
              "    }\n",
              "  }\n",
              "</style>\n",
              "\n",
              "  <script>\n",
              "    async function quickchart(key) {\n",
              "      const quickchartButtonEl =\n",
              "        document.querySelector('#' + key + ' button');\n",
              "      quickchartButtonEl.disabled = true;  // To prevent multiple clicks.\n",
              "      quickchartButtonEl.classList.add('colab-df-spinner');\n",
              "      try {\n",
              "        const charts = await google.colab.kernel.invokeFunction(\n",
              "            'suggestCharts', [key], {});\n",
              "      } catch (error) {\n",
              "        console.error('Error during call to suggestCharts:', error);\n",
              "      }\n",
              "      quickchartButtonEl.classList.remove('colab-df-spinner');\n",
              "      quickchartButtonEl.classList.add('colab-df-quickchart-complete');\n",
              "    }\n",
              "    (() => {\n",
              "      let quickchartButtonEl =\n",
              "        document.querySelector('#df-0a747cc4-e2eb-401f-859d-548ed20253e6 button');\n",
              "      quickchartButtonEl.style.display =\n",
              "        google.colab.kernel.accessAllowed ? 'block' : 'none';\n",
              "    })();\n",
              "  </script>\n",
              "</div>\n",
              "    </div>\n",
              "  </div>\n"
            ]
          },
          "metadata": {},
          "execution_count": 28
        }
      ]
    },
    {
      "cell_type": "markdown",
      "metadata": {
        "id": "F9r0oxZDbRyS"
      },
      "source": [
        "##Analysis -2:"
      ]
    },
    {
      "cell_type": "markdown",
      "metadata": {
        "id": "0rsXWFyk25q8"
      },
      "source": [
        "* Find the most common `Grouped Orders`."
      ]
    },
    {
      "cell_type": "code",
      "metadata": {
        "id": "AIcgGH-NgYjh",
        "colab": {
          "base_uri": "https://localhost:8080/"
        },
        "outputId": "15ff42a8-7d84-4426-d297-d2b044d923a8"
      },
      "source": [
        "# WRITE YOUR CODE HERE\n",
        "grouped_orders_df['Grouped Orders'].value_counts().head(10)\n"
      ],
      "execution_count": null,
      "outputs": [
        {
          "output_type": "execute_result",
          "data": {
            "text/plain": [
              "Lightning Charging Cable      19876\n",
              "AAA Batteries (4-pack)        19855\n",
              "USB-C Charging Cable          19834\n",
              "AA Batteries (4-pack)         19828\n",
              "Wired Headphones              17240\n",
              "Apple Airpods Headphones      14599\n",
              "Bose SoundSport Headphones    12532\n",
              "27in FHD Monitor               7222\n",
              "27in 4K Gaming Monitor         5984\n",
              "34in Ultrawide Monitor         5942\n",
              "Name: Grouped Orders, dtype: int64"
            ]
          },
          "metadata": {},
          "execution_count": 29
        }
      ]
    },
    {
      "cell_type": "markdown",
      "metadata": {
        "id": "6MheoQeP_mQK"
      },
      "source": [
        "#**Question 3:**\n",
        "\n",
        "**Which product has the highest sales(based on quantity)? Why do you think it has the highest sales?**"
      ]
    },
    {
      "cell_type": "markdown",
      "metadata": {
        "id": "tLC3kSncvv8v"
      },
      "source": [
        "##Analysis:\n",
        "* Find the total quantity ordered for each product.\n",
        "* Find the product with the highest sales.\n"
      ]
    },
    {
      "cell_type": "code",
      "metadata": {
        "id": "AG9kj1_fvv8v",
        "colab": {
          "base_uri": "https://localhost:8080/",
          "height": 472
        },
        "outputId": "4a998ffd-34ed-439a-83a6-9ced421c55bf"
      },
      "source": [
        "# WRITE YOUR CODE HERE\n",
        "product_group = shopping_df.groupby('Product')\n",
        "quantity_ordered = product_group.sum()['Quantity Ordered']\n",
        "print(quantity_ordered, \"\\n\")\n",
        "quantity_ordered.idxmax()"
      ],
      "execution_count": 34,
      "outputs": [
        {
          "output_type": "stream",
          "name": "stdout",
          "text": [
            "Product\n",
            "20in Monitor                   4126.0\n",
            "27in 4K Gaming Monitor         6239.0\n",
            "27in FHD Monitor               7541.0\n",
            "34in Ultrawide Monitor         6192.0\n",
            "AA Batteries (4-pack)         27615.0\n",
            "AAA Batteries (4-pack)        30986.0\n",
            "Apple Airpods Headphones      15637.0\n",
            "Bose SoundSport Headphones    13430.0\n",
            "Flatscreen TV                  4813.0\n",
            "Google Phone                   5529.0\n",
            "LG Dryer                        646.0\n",
            "LG Washing Machine              666.0\n",
            "Lightning Charging Cable      23169.0\n",
            "Macbook Pro Laptop             4725.0\n",
            "ThinkPad Laptop                4128.0\n",
            "USB-C Charging Cable          23931.0\n",
            "Vareebadd Phone                2068.0\n",
            "Wired Headphones              20524.0\n",
            "iPhone                         6847.0\n",
            "Name: Quantity Ordered, dtype: float64 \n",
            "\n"
          ]
        },
        {
          "output_type": "stream",
          "name": "stderr",
          "text": [
            "<ipython-input-34-cb359880df1f>:3: FutureWarning: The default value of numeric_only in DataFrameGroupBy.sum is deprecated. In a future version, numeric_only will default to False. Either specify numeric_only or select only columns which should be valid for the function.\n",
            "  quantity_ordered = product_group.sum()['Quantity Ordered']\n"
          ]
        },
        {
          "output_type": "execute_result",
          "data": {
            "text/plain": [
              "'AAA Batteries (4-pack)'"
            ],
            "application/vnd.google.colaboratory.intrinsic+json": {
              "type": "string"
            }
          },
          "metadata": {},
          "execution_count": 34
        }
      ]
    },
    {
      "cell_type": "markdown",
      "metadata": {
        "id": "XeBMj8CFvv8v"
      },
      "source": [
        "## Plotting:\n",
        "* Plot a bar graph(GRAPH-1) between the total quantity ordered and products to get a visual understanding of which product is sold the most.\n",
        "* Plot a graph(GRAPH-2) with the products on the x-axis and the total quantity ordered and average price of each product on the y-axis to understand if a product's price is related to the quantity sold.\n",
        "  \n",
        "\n",
        "\n",
        "**Note:** To plot the graph, you can use the matplotlib library. Refer to the section **_Getting Started with Matplotlib_** for further details."
      ]
    },
    {
      "cell_type": "code",
      "metadata": {
        "id": "SI0nbhdyz8yD",
        "colab": {
          "base_uri": "https://localhost:8080/",
          "height": 646
        },
        "outputId": "50105f8b-4348-443e-8437-9366d25b0033"
      },
      "source": [
        "# WRITE YOUR CODE HERE FOR GRAPH-1\n",
        "products = quantity_ordered.index.values\n",
        "plt.bar(products, quantity_ordered)\n",
        "plt.xticks(products, rotation='vertical')\n",
        "plt.xlabel('Product')\n",
        "plt.ylabel('Quantity Ordered')\n",
        "plt.show()\n"
      ],
      "execution_count": 35,
      "outputs": [
        {
          "output_type": "display_data",
          "data": {
            "text/plain": [
              "<Figure size 640x480 with 1 Axes>"
            ],
            "image/png": "[encoded data removed]"
          },
          "metadata": {}
        }
      ]
    },
    {
      "cell_type": "code",
      "metadata": {
        "id": "dL5RwQC6vv81",
        "colab": {
          "base_uri": "https://localhost:8080/",
          "height": 521
        },
        "outputId": "abc5efbc-32f2-4dac-a57d-9ddc270e3551"
      },
      "source": [
        "# WRITE YOUR CODE HERE FOR GRAPH-2\n",
        "prices = shopping_df.groupby(\"Product\").mean()['Price Each']\n",
        "\n",
        "fig, ax1 = plt.subplots()\n",
        "ax2 = ax1.twinx()\n",
        "\n",
        "ax1.bar(products, quantity_ordered, color='g')\n",
        "ax2.plot(products, prices, 'b')\n",
        "\n",
        "ax1.set_xlabel('Product Name')\n",
        "ax1.set_ylabel('Quantity Ordered', color='g')\n",
        "ax2.set_ylabel('Price ($)', color='b')"
      ],
      "execution_count": 36,
      "outputs": [
        {
          "output_type": "stream",
          "name": "stderr",
          "text": [
            "<ipython-input-36-95128b6baa17>:2: FutureWarning: The default value of numeric_only in DataFrameGroupBy.mean is deprecated. In a future version, numeric_only will default to False. Either specify numeric_only or select only columns which should be valid for the function.\n",
            "  prices = shopping_df.groupby(\"Product\").mean()['Price Each']\n"
          ]
        },
        {
          "output_type": "execute_result",
          "data": {
            "text/plain": [
              "Text(0, 0.5, 'Price ($)')"
            ]
          },
          "metadata": {},
          "execution_count": 36
        },
        {
          "output_type": "display_data",
          "data": {
            "text/plain": [
              "<Figure size 640x480 with 2 Axes>"
            ],
            "image/png": "[encoded data removed]"
          },
          "metadata": {}
        }
      ]
    },
    {
      "cell_type": "markdown",
      "metadata": {
        "id": "XwxXs4uZ4uFb"
      },
      "source": [
        "# **Question 4**\n",
        "\n",
        "\n",
        "**Find the products with the highest popularity in each month of the year 2019.**\n",
        "\n",
        "\n",
        "\n",
        "\n"
      ]
    },
    {
      "cell_type": "markdown",
      "metadata": {
        "id": "vkrD-Am2RWay"
      },
      "source": [
        " ## Cleaning the data:\n",
        "* Add new columns if needed\n",
        "\n"
      ]
    },
    {
      "cell_type": "code",
      "metadata": {
        "id": "-cJBoMu69MJ2"
      },
      "source": [
        "# WRITE YOUR CODE HERE\n",
        "shopping_df['Year'] = shopping_df['Order Date'].dt.year\n",
        "df_2019  = shopping_df[shopping_df['Year']==2019].copy() # Extracting 2019 Year data\n",
        "df_2019['Month'] = df_2019['Order Date'].dt.month"
      ],
      "execution_count": 33,
      "outputs": []
    },
    {
      "cell_type": "markdown",
      "metadata": {
        "id": "MdQk9HxVT798"
      },
      "source": [
        "##Analysis:\n",
        "* Find the total quantity ordered for each product in each month.\n",
        "* Find the product with the maximum quantity ordered for each month.\n",
        "\n",
        "**Hints:**\n",
        "* Use `DataFrame.idxmax()` to get the indices of the rows with the maximum quantity ordered.\n",
        "* You may need to use additional arguments of [ `pd.DataFrame.groupby`](https://pandas.pydata.org/pandas-docs/stable/reference/api/pandas.DataFrame.groupby.html?highlight=groupby#pandas.DataFrame.groupby)."
      ]
    },
    {
      "cell_type": "code",
      "metadata": {
        "id": "cD6QBm3oApvH",
        "colab": {
          "base_uri": "https://localhost:8080/",
          "height": 136
        },
        "outputId": "b3276b85-2609-475f-e31d-ee106dd7b0ed"
      },
      "source": [
        "product_group = df_2019.groupby(['Month','Product'], as_index=False)['Quantity Ordered'].sum()\n",
        "product_df = pd.DataFrame(product_group)\n",
        "indices = product_df.groupby(['Month']).idxmax()['Quantity Ordered']\n",
        "product_df.iloc[indices]"
      ],
      "execution_count": 32,
      "outputs": [
        {
          "output_type": "execute_result",
          "data": {
            "text/plain": [
              "Empty DataFrame\n",
              "Columns: [Month, Product, Quantity Ordered]\n",
              "Index: []"
            ],
            "text/html": [
              "\n",
              "  <div id=\"df-7a7d2c2e-47f2-402b-9151-238bfa5c7866\" class=\"colab-df-container\">\n",
              "    <div>\n",
              "<style scoped>\n",
              "    .dataframe tbody tr th:only-of-type {\n",
              "        vertical-align: middle;\n",
              "    }\n",
              "\n",
              "    .dataframe tbody tr th {\n",
              "        vertical-align: top;\n",
              "    }\n",
              "\n",
              "    .dataframe thead th {\n",
              "        text-align: right;\n",
              "    }\n",
              "</style>\n",
              "<table border=\"1\" class=\"dataframe\">\n",
              "  <thead>\n",
              "    <tr style=\"text-align: right;\">\n",
              "      <th></th>\n",
              "      <th>Month</th>\n",
              "      <th>Product</th>\n",
              "      <th>Quantity Ordered</th>\n",
              "    </tr>\n",
              "  </thead>\n",
              "  <tbody>\n",
              "  </tbody>\n",
              "</table>\n",
              "</div>\n",
              "    <div class=\"colab-df-buttons\">\n",
              "\n",
              "  <div class=\"colab-df-container\">\n",
              "    <button class=\"colab-df-convert\" onclick=\"convertToInteractive('df-7a7d2c2e-47f2-402b-9151-238bfa5c7866')\"\n",
              "            title=\"Convert this dataframe to an interactive table.\"\n",
              "            style=\"display:none;\">\n",
              "\n",
              "  <svg xmlns=\"http://www.w3.org/2000/svg\" height=\"24px\" viewBox=\"0 -960 960 960\">\n",
              "    <path d=\"M120-120v-720h720v720H120Zm60-500h600v-160H180v160Zm220 220h160v-160H400v160Zm0 220h160v-160H400v160ZM180-400h160v-160H180v160Zm440 0h160v-160H620v160ZM180-180h160v-160H180v160Zm440 0h160v-160H620v160Z\"/>\n",
              "  </svg>\n",
              "    </button>\n",
              "\n",
              "  <style>\n",
              "    .colab-df-container {\n",
              "      display:flex;\n",
              "      gap: 12px;\n",
              "    }\n",
              "\n",
              "    .colab-df-convert {\n",
              "      background-color: #E8F0FE;\n",
              "      border: none;\n",
              "      border-radius: 50%;\n",
              "      cursor: pointer;\n",
              "      display: none;\n",
              "      fill: #1967D2;\n",
              "      height: 32px;\n",
              "      padding: 0 0 0 0;\n",
              "      width: 32px;\n",
              "    }\n",
              "\n",
              "    .colab-df-convert:hover {\n",
              "      background-color: #E2EBFA;\n",
              "      box-shadow: 0px 1px 2px rgba(60, 64, 67, 0.3), 0px 1px 3px 1px rgba(60, 64, 67, 0.15);\n",
              "      fill: #174EA6;\n",
              "    }\n",
              "\n",
              "    .colab-df-buttons div {\n",
              "      margin-bottom: 4px;\n",
              "    }\n",
              "\n",
              "    [theme=dark] .colab-df-convert {\n",
              "      background-color: #3B4455;\n",
              "      fill: #D2E3FC;\n",
              "    }\n",
              "\n",
              "    [theme=dark] .colab-df-convert:hover {\n",
              "      background-color: #434B5C;\n",
              "      box-shadow: 0px 1px 3px 1px rgba(0, 0, 0, 0.15);\n",
              "      filter: drop-shadow(0px 1px 2px rgba(0, 0, 0, 0.3));\n",
              "      fill: #FFFFFF;\n",
              "    }\n",
              "  </style>\n",
              "\n",
              "    <script>\n",
              "      const buttonEl =\n",
              "        document.querySelector('#df-7a7d2c2e-47f2-402b-9151-238bfa5c7866 button.colab-df-convert');\n",
              "      buttonEl.style.display =\n",
              "        google.colab.kernel.accessAllowed ? 'block' : 'none';\n",
              "\n",
              "      async function convertToInteractive(key) {\n",
              "        const element = document.querySelector('#df-7a7d2c2e-47f2-402b-9151-238bfa5c7866');\n",
              "        const dataTable =\n",
              "          await google.colab.kernel.invokeFunction('convertToInteractive',\n",
              "                                                    [key], {});\n",
              "        if (!dataTable) return;\n",
              "\n",
              "        const docLinkHtml = 'Like what you see? Visit the ' +\n",
              "          '<a target=\"_blank\" href=https://colab.research.google.com/notebooks/data_table.ipynb>data table notebook</a>'\n",
              "          + ' to learn more about interactive tables.';\n",
              "        element.innerHTML = '';\n",
              "        dataTable['output_type'] = 'display_data';\n",
              "        await google.colab.output.renderOutput(dataTable, element);\n",
              "        const docLink = document.createElement('div');\n",
              "        docLink.innerHTML = docLinkHtml;\n",
              "        element.appendChild(docLink);\n",
              "      }\n",
              "    </script>\n",
              "  </div>\n",
              "\n",
              "    </div>\n",
              "  </div>\n"
            ]
          },
          "metadata": {},
          "execution_count": 32
        }
      ]
    }
  ]
}